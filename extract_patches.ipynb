{
 "cells": [
  {
   "cell_type": "code",
   "execution_count": null,
   "metadata": {
    "ExecuteTime": {
     "end_time": "2020-10-10T11:00:38.244818Z",
     "start_time": "2020-10-10T11:00:38.071127Z"
    }
   },
   "outputs": [],
   "source": [
    "import os\n",
    "import glob\n",
    "import numpy as np\n",
    "from PIL import Image"
   ]
  },
  {
   "cell_type": "code",
   "execution_count": null,
   "metadata": {
    "ExecuteTime": {
     "end_time": "2020-10-10T11:00:38.610806Z",
     "start_time": "2020-10-10T11:00:38.607576Z"
    }
   },
   "outputs": [],
   "source": [
    "train_irrg_dir = \"/media/syz/Remote_Sensing/dataset/potsdam/IRRG_Images_for_participants_no_Bounary\"\n",
    "train_irrg_label_dir = \"/media/syz/Remote_Sensing/dataset/potsdam/Labels_for_participants_no_Boundary\"\n",
    "\n",
    "test_irrg_dir = \"/media/syz/Remote_Sensing/dataset/potsdam/IRRG_Images_for_test_no_Bounary\"\n",
    "test_irrg_label_dir = \"/media/syz/Remote_Sensing/dataset/potsdam/Labels_for_test_no_Boundary\""
   ]
  },
  {
   "cell_type": "code",
   "execution_count": null,
   "metadata": {
    "ExecuteTime": {
     "end_time": "2020-10-10T11:00:39.156272Z",
     "start_time": "2020-10-10T11:00:39.146570Z"
    }
   },
   "outputs": [],
   "source": [
    "train_irrg_list = glob.glob(train_irrg_dir+\"/*.tif\")\n",
    "train_irrg_list = sorted(train_irrg_list)\n",
    "train_irrg_list[-5:]"
   ]
  },
  {
   "cell_type": "code",
   "execution_count": null,
   "metadata": {
    "ExecuteTime": {
     "end_time": "2020-10-10T11:00:39.611280Z",
     "start_time": "2020-10-10T11:00:39.605138Z"
    }
   },
   "outputs": [],
   "source": [
    "train_irrg_label_list = glob.glob(train_irrg_label_dir+\"/*.tif\")\n",
    "train_irrg_label_list = sorted(train_irrg_label_list)\n",
    "train_irrg_label_list[-5:]"
   ]
  },
  {
   "cell_type": "code",
   "execution_count": null,
   "metadata": {
    "ExecuteTime": {
     "end_time": "2020-10-10T11:00:40.492730Z",
     "start_time": "2020-10-10T11:00:40.488070Z"
    }
   },
   "outputs": [],
   "source": [
    "test_irrg_list = glob.glob(test_irrg_dir+\"/*.tif\")\n",
    "test_irrg_list = sorted(test_irrg_list)\n",
    "test_irrg_list[-5:]"
   ]
  },
  {
   "cell_type": "code",
   "execution_count": null,
   "metadata": {
    "ExecuteTime": {
     "end_time": "2020-10-10T11:00:41.196833Z",
     "start_time": "2020-10-10T11:00:41.193186Z"
    }
   },
   "outputs": [],
   "source": [
    "test_irrg_label_list = glob.glob(test_irrg_label_dir+\"/*.tif\")\n",
    "test_irrg_label_list = sorted(test_irrg_label_list)\n",
    "test_irrg_label_list[-5:]"
   ]
  },
  {
   "cell_type": "code",
   "execution_count": null,
   "metadata": {
    "ExecuteTime": {
     "end_time": "2020-10-10T11:00:41.993593Z",
     "start_time": "2020-10-10T11:00:41.990015Z"
    }
   },
   "outputs": [],
   "source": [
    "patch_size = 512\n",
    "overlap_rate = 1/3\n",
    "overlap = int(512*(1/3))\n",
    "print(f\"patch_size: {patch_size}, overlap_rate: {overlap_rate:.5f}, overlap: {overlap}\")"
   ]
  },
  {
   "cell_type": "code",
   "execution_count": null,
   "metadata": {
    "ExecuteTime": {
     "end_time": "2020-10-10T11:03:35.633279Z",
     "start_time": "2020-10-10T11:03:35.630276Z"
    }
   },
   "outputs": [],
   "source": [
    "save_train_image_dir = \"/media/syz/Remote_Sensing/dataset/potsdam/Patches/Patch_IRRG_for_participants_no_Boundary\"\n",
    "save_train_label_dir = \"/media/syz/Remote_Sensing/dataset/potsdam/Patches/Patch_IRRG_label_for_participants_no_Boundary\"\n",
    "\n",
    "save_test_image_dir = \"/media/syz/Remote_Sensing/dataset/potsdam/Patches/Patch_IRRG_for_test_no_Boundary\"\n",
    "save_test_label_dir = \"/media/syz/Remote_Sensing/dataset/potsdam/Patches/Patch_IRRG_label_for_test_no_Boundary\""
   ]
  },
  {
   "cell_type": "markdown",
   "metadata": {},
   "source": [
    "# Extract Patch from Train Datset (Overlap)"
   ]
  },
  {
   "cell_type": "code",
   "execution_count": null,
   "metadata": {
    "ExecuteTime": {
     "end_time": "2020-10-10T14:00:29.774938Z",
     "start_time": "2020-10-10T14:00:29.742944Z"
    }
   },
   "outputs": [],
   "source": [
    "def extract_train_patches(image_list, label_list, save_dest_for_image, save_dest_for_label, patch_size, overlap_rate):\n",
    "    \n",
    "    overlap = int(patch_size*(1-overlap_rate)) # Most Important: overlap based on <patch_size>. \n",
    "\n",
    "    for idx, (img_path, label_path) in enumerate(zip(image_list, label_list)):\n",
    "        img = Image.open(img_path)\n",
    "        label = Image.open(label_path)\n",
    "        assert img.size == label.size, f\" Different Shape Image and Label. \"\n",
    "        (height, width) = img.size\n",
    "        img_dir = os.path.basename(img_path).split('.')[0]\n",
    "        label_dir = os.path.basename(label_path).split('.')[0]\n",
    "\n",
    "        # extract patch start\n",
    "        h = 0\n",
    "        height_count=0\n",
    "        extract_finish = False\n",
    "\n",
    "        while not extract_finish:\n",
    "\n",
    "            if h+patch_size <= height:\n",
    "\n",
    "                # set row flag\n",
    "                extract_row = True\n",
    "                # initial row start\n",
    "                w = 0\n",
    "                width_count = 0\n",
    "                # Extracting row\n",
    "                while extract_row:\n",
    "                    if w+patch_size <= width:\n",
    "                        print(f\"h:{h} w:{w} ->  h':{h+patch_size} w':{w+patch_size}\")\n",
    "                        patch_img = img.crop([h, w, h+patch_size, w+patch_size])\n",
    "                        patch_label = label.crop([h, w, h+patch_size, w+patch_size])\n",
    "                    else:\n",
    "                        print(f\"h:{h} w:{width-patch_size} ->  h':{h+patch_size} w':{width}\")                        \n",
    "                        patch_img = img.crop([h, width-patch_size, h+patch_size, width])\n",
    "                        patch_label = label.crop([h, width-patch_size, h+patch_size, width])\n",
    "                        # stop\n",
    "                        extract_row = False\n",
    "\n",
    "                    if not os.path.exists(os.path.join(save_dest_for_image, img_dir)):\n",
    "                        os.mkdir(os.path.join(save_dest_for_image, img_dir))\n",
    "                    if not os.path.exists(os.path.join(save_dest_for_label, label_dir)):\n",
    "                        os.mkdir(os.path.join(save_dest_for_label, label_dir))\n",
    "\n",
    "                    patch_img_name = img_dir+'_'+str(height_count)+'_'+str(width_count)+'.png'\n",
    "                    patch_label_name = label_dir+'_'+str(height_count)+'_'+str(width_count)+'.png'\n",
    "\n",
    "                    patch_img.save(os.path.join(save_dest_for_image, img_dir, patch_img_name))\n",
    "                    patch_label.save(os.path.join(save_dest_for_label, label_dir, patch_label_name))\n",
    "\n",
    "                    # iter along w\n",
    "                    w += overlap\n",
    "                    width_count += 1\n",
    "                    #\n",
    "                    print(height_count, width_count)\n",
    "\n",
    "            else:\n",
    "                # set last row flag\n",
    "                extract_last_row = True\n",
    "                # initial row start\n",
    "                w = 0\n",
    "                width_count = 0\n",
    "                # Extracting Last row\n",
    "                while extract_last_row:\n",
    "\n",
    "                    if w+patch_size <= width:\n",
    "                        print(f\"h:{height-patch_size} w:{w} ->  h':{height} w':{w+patch_size}\")\n",
    "                        patch_img = img.crop([height-patch_size, w, height, w+patch_size])\n",
    "                        patch_label = label.crop([height-patch_size, w, height, w+patch_size])\n",
    "                    else:\n",
    "                        print(f\"h:{height-patch_size} w:{w-patch_size} ->  h':{height} w':{width}\")\n",
    "                        patch_img = img.crop([height-patch_size, width-patch_size, height, width])\n",
    "                        patch_label = label.crop([height-patch_size, width-patch_size, height, width])\n",
    "                        # stop\n",
    "                        extract_last_row = False\n",
    "                        extract_finish = True\n",
    "\n",
    "                    if not os.path.exists(os.path.join(save_dest_for_image, img_dir)):\n",
    "                        os.mkdir(os.path.join(save_dest_for_image, img_dir))\n",
    "                    if not os.path.exists(os.path.join(save_dest_for_label, label_dir)):\n",
    "                        os.mkdir(os.path.join(save_dest_for_label, label_dir))\n",
    "\n",
    "                    patch_img_name = img_dir+'_'+str(height_count)+'_'+str(width_count)+'.png'\n",
    "                    patch_label_name = label_dir+'_'+str(height_count)+'_'+str(width_count)+'.png'\n",
    "\n",
    "                    patch_img.save(os.path.join(save_dest_for_image, img_dir, patch_img_name))\n",
    "                    patch_label.save(os.path.join(save_dest_for_label, label_dir, patch_label_name))\n",
    "                    \n",
    "                    # iter along w\n",
    "                    w += overlap\n",
    "                    width_count += 1\n",
    "                    #\n",
    "                    print(height_count, width_count)\n",
    "                    \n",
    "            # iter along h\n",
    "            h += overlap\n",
    "            height_count += 1\n",
    "\n",
    "        # extract patch end\n",
    "        print(f\"Image {img_dir} extracted finished !\")"
   ]
  },
  {
   "cell_type": "code",
   "execution_count": null,
   "metadata": {
    "ExecuteTime": {
     "end_time": "2020-10-10T14:19:13.179002Z",
     "start_time": "2020-10-10T14:00:30.607837Z"
    }
   },
   "outputs": [],
   "source": [
    "extract_train_patches(\n",
    "    train_irrg_list, \n",
    "    train_irrg_label_list, \n",
    "    save_dest_for_image=save_train_image_dir, \n",
    "    save_dest_for_label=save_train_label_dir, \n",
    "    patch_size=512, \n",
    "    overlap_rate=1/3)"
   ]
  },
  {
   "cell_type": "markdown",
   "metadata": {},
   "source": [
    "# Extract Patch from Test Dataset (No Overlap)"
   ]
  },
  {
   "cell_type": "code",
   "execution_count": null,
   "metadata": {
    "ExecuteTime": {
     "end_time": "2020-10-10T13:04:10.391489Z",
     "start_time": "2020-10-10T13:04:10.377431Z"
    }
   },
   "outputs": [],
   "source": [
    "# No Overlap\n",
    "def extract_test_patches(image_list, label_list, save_dest_for_image, save_dest_for_label, patch_size,):\n",
    "    \n",
    "    for idx, (img_path, label_path) in enumerate(zip(image_list, label_list)):\n",
    "        img = Image.open(img_path)\n",
    "        label = Image.open(label_path)\n",
    "        assert img.size == label.size, f\" Different Shape Image and Label. \"\n",
    "        (height, width) = img.size\n",
    "        img_dir = os.path.basename(img_path).split('.')[0]\n",
    "        label_dir = os.path.basename(label_path).split('.')[0]\n",
    "\n",
    "        # extract patch start\n",
    "        h = 0\n",
    "        height_count=0\n",
    "        extract_finish = False\n",
    "\n",
    "        while not extract_finish:\n",
    "\n",
    "            if h+patch_size > height:\n",
    "                # set last row flag\n",
    "                extract_last_row = True\n",
    "                # initial row start\n",
    "                w = 0\n",
    "                width_count = 0\n",
    "                # Extracting Last row\n",
    "                while extract_last_row:\n",
    "            \n",
    "                    if w + patch_size > width:\n",
    "                        print(f\"h:{height-patch_size} w:{width-patch_size} ->  h':{height} w':{width}\")\n",
    "                        patch_img = img.crop([height-patch_size, width-patch_size, height, width])\n",
    "                        patch_label = label.crop([height-patch_size, width-patch_size, height, width])\n",
    "                        # stop\n",
    "                        extract_last_row = False\n",
    "                        extract_finish = True\n",
    "                        \n",
    "                    else:\n",
    "                        print(f\"h:{height-patch_size} w:{w} ->  h':{height} w':{w+patch_size}\")\n",
    "                        patch_img = img.crop([height-patch_size, w, height, w+patch_size])\n",
    "                        patch_label = label.crop([height-patch_size, w, height, w+patch_size])\n",
    "\n",
    "                    if not os.path.exists(os.path.join(save_dest_for_image, img_dir)):\n",
    "                        os.mkdir(os.path.join(save_dest_for_image, img_dir))\n",
    "                    if not os.path.exists(os.path.join(save_dest_for_label, label_dir)):\n",
    "                        os.mkdir(os.path.join(save_dest_for_label, label_dir))\n",
    "\n",
    "                    patch_img_name = img_dir+'_'+str(height_count)+'_'+str(width_count)+'.png'\n",
    "                    patch_label_name = label_dir+'_'+str(height_count)+'_'+str(width_count)+'.png'\n",
    "\n",
    "                    patch_img.save(os.path.join(save_dest_for_image, img_dir, patch_img_name))\n",
    "                    patch_label.save(os.path.join(save_dest_for_label, label_dir, patch_label_name))\n",
    "\n",
    "                    # iter along w\n",
    "                    w += patch_size\n",
    "                    width_count += 1\n",
    "                    print(height_count, width_count)\n",
    "  \n",
    "            else:\n",
    "                # set row flag\n",
    "                extract_row = True\n",
    "                # initial row start\n",
    "                w = 0\n",
    "                width_count = 0\n",
    "                # Extracting row\n",
    "                while extract_row:\n",
    "                    if w+patch_size > width:\n",
    "                        print(f\"h:{h} w:{width-patch_size} ->  h':{h+patch_size} w':{width}\")\n",
    "                        patch_img = img.crop([h, width-patch_size, h+patch_size, width])\n",
    "                        patch_label = label.crop([h, width-patch_size, h+patch_size, width])\n",
    "                        # stop\n",
    "                        extract_row = False\n",
    "                    else:\n",
    "                        print(f\"h:{h} w:{w} ->  h':{h+patch_size} w':{w+patch_size}\")\n",
    "                        patch_img = img.crop([h, w, h+patch_size, w+patch_size])\n",
    "                        patch_label = label.crop([h, w, h+patch_size, w+patch_size])\n",
    "\n",
    "                    if not os.path.exists(os.path.join(save_dest_for_image, img_dir)):\n",
    "                        os.mkdir(os.path.join(save_dest_for_image, img_dir))\n",
    "                    if not os.path.exists(os.path.join(save_dest_for_label, label_dir)):\n",
    "                        os.mkdir(os.path.join(save_dest_for_label, label_dir))\n",
    "\n",
    "                    patch_img_name = img_dir+'_'+str(height_count)+'_'+str(width_count)+'.png'\n",
    "                    patch_label_name = label_dir+'_'+str(height_count)+'_'+str(width_count)+'.png'\n",
    "\n",
    "                    patch_img.save(os.path.join(save_dest_for_image, img_dir, patch_img_name))\n",
    "                    patch_label.save(os.path.join(save_dest_for_label, label_dir, patch_label_name))\n",
    "\n",
    "                    # iter along w\n",
    "                    w += patch_size\n",
    "                    width_count += 1\n",
    "                    print(height_count, width_count)\n",
    "\n",
    "            # iter along h\n",
    "            h += patch_size\n",
    "            height_count += 1\n",
    "            \n",
    "        # extract patch end\n",
    "        print(f\"Image {img_dir} extracted finished !\")"
   ]
  },
  {
   "cell_type": "code",
   "execution_count": null,
   "metadata": {
    "ExecuteTime": {
     "end_time": "2020-10-10T13:08:57.725333Z",
     "start_time": "2020-10-10T13:04:11.132475Z"
    }
   },
   "outputs": [],
   "source": [
    "extract_test_patches(\n",
    "    test_irrg_list, \n",
    "    test_irrg_label_list, \n",
    "    save_dest_for_image=save_test_image_dir, \n",
    "    save_dest_for_label=save_test_label_dir, \n",
    "    patch_size=512)"
   ]
  },
  {
   "cell_type": "code",
   "execution_count": null,
   "metadata": {
    "ExecuteTime": {
     "end_time": "2020-10-10T13:48:06.709601Z",
     "start_time": "2020-10-10T13:48:06.704087Z"
    }
   },
   "outputs": [],
   "source": [
    "x=0\n",
    "size = 512\n",
    "num = 0\n",
    "\n",
    "while x < 6000:\n",
    "    num += 1\n",
    "        \n",
    "    t = x + size\n",
    "    \n",
    "    y = t-170\n",
    "    print(f\"Cor: {y} = {t}-170  Crop: [{x}, {t}]\")\n",
    "    \n",
    "    x = y\n",
    "    \n",
    "\n",
    "print(f\"extract num:{num}\")"
   ]
  }
 ],
 "metadata": {
  "kernelspec": {
   "display_name": "Python 3",
   "language": "python",
   "name": "python3"
  },
  "language_info": {
   "codemirror_mode": {
    "name": "ipython",
    "version": 3
   },
   "file_extension": ".py",
   "mimetype": "text/x-python",
   "name": "python",
   "nbconvert_exporter": "python",
   "pygments_lexer": "ipython3",
   "version": "3.6.10"
  },
  "toc": {
   "base_numbering": 1,
   "nav_menu": {},
   "number_sections": true,
   "sideBar": true,
   "skip_h1_title": false,
   "title_cell": "Table of Contents",
   "title_sidebar": "Contents",
   "toc_cell": false,
   "toc_position": {},
   "toc_section_display": true,
   "toc_window_display": false
  }
 },
 "nbformat": 4,
 "nbformat_minor": 4
}
