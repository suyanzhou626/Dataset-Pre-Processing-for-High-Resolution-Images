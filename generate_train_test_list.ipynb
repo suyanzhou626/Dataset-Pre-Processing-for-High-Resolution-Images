{
 "cells": [
  {
   "cell_type": "code",
   "execution_count": 1,
   "metadata": {
    "ExecuteTime": {
     "end_time": "2020-10-11T13:26:44.591612Z",
     "start_time": "2020-10-11T13:26:44.588614Z"
    }
   },
   "outputs": [],
   "source": [
    "import os\n",
    "import glob"
   ]
  },
  {
   "cell_type": "code",
   "execution_count": 2,
   "metadata": {
    "ExecuteTime": {
     "end_time": "2020-10-11T13:26:45.266582Z",
     "start_time": "2020-10-11T13:26:45.263194Z"
    }
   },
   "outputs": [],
   "source": [
    "dataset_path = \"/media/syz/Remote_Sensing/dataset/potsdam/Patches\"\n",
    "save_test_dest = \"/media/syz/Remote_Sensing/dataset/potsdam/dataset_list\""
   ]
  },
  {
   "cell_type": "code",
   "execution_count": 3,
   "metadata": {
    "ExecuteTime": {
     "end_time": "2020-10-11T13:26:46.059862Z",
     "start_time": "2020-10-11T13:26:46.057424Z"
    }
   },
   "outputs": [],
   "source": [
    "# def generate_train_and_test_list(full_list, save_list_dir):\n",
    "#     with open(list_path, 'rt') as f:\n",
    "#         out = f.readlines()\n",
    "#     import random\n",
    "#     random.shuffle(out)\n",
    "#     train = out[:int(len(out)*0.8)]\n",
    "#     test = out[int(len(out)*0.8):]\n",
    "#     assert len(train) + len(test) == len(out), f'After Split, the number must be equality!'\n",
    "#     with open(os.path.join(save_list_dir, 'train_list.txt'), 'w+') as f:\n",
    "#         for idx, fp in enumerate(train):\n",
    "#             f.write(train[idx])\n",
    "#     with open(os.path.join(save_list_dir, 'test_list.txt'), 'w+') as f:\n",
    "#         for idx, fp in enumerate(test):\n",
    "#             f.write(test[idx])\n",
    "#     print(f'generate ok! file save in {save_list_dir}')\n",
    "\n",
    "# if __name__ == \"__main__\":\n",
    "#     list_path = \"/media/syz/GALD-Net/data/zkxt/fullzkxt_list.txt\"\n",
    "#     save_list_dir = \"/media/syz/GALD-Net/data/zkxt\"\n",
    "#     generate_train_and_test_list(list_path, save_list_dir)"
   ]
  },
  {
   "cell_type": "code",
   "execution_count": 4,
   "metadata": {
    "ExecuteTime": {
     "end_time": "2020-10-11T13:26:46.676508Z",
     "start_time": "2020-10-11T13:26:46.655847Z"
    }
   },
   "outputs": [
    {
     "name": "stdout",
     "output_type": "stream",
     "text": [
      "Patch_OverlapIRRG_label_for_test_no_Boundary\n",
      "Patch_IRRG_label_for_participants_no_Boundary\n",
      "Patch_IRRG_for_test_no_Boundary\n",
      "Patch_OverlapIRRG_for_test_no_Boundary\n",
      "Patch_IRRG_label_for_test_no_Boundary\n",
      "Patch_IRRG_for_participants_no_Boundary\n"
     ]
    }
   ],
   "source": [
    "for it, img_dir in enumerate(os.listdir(dataset_path)):\n",
    "    print(img_dir)"
   ]
  },
  {
   "cell_type": "code",
   "execution_count": 5,
   "metadata": {
    "ExecuteTime": {
     "end_time": "2020-10-11T13:26:50.810138Z",
     "start_time": "2020-10-11T13:26:50.807768Z"
    }
   },
   "outputs": [],
   "source": [
    "train_img_dir = \"/media/syz/Remote_Sensing/dataset/potsdam/Patches/Patch_IRRG_for_participants_no_Boundary\"\n",
    "train_label_dir = \"/media/syz/Remote_Sensing/dataset/potsdam/Patches/Patch_IRRG_label_for_participants_no_Boundary\""
   ]
  },
  {
   "cell_type": "code",
   "execution_count": 6,
   "metadata": {
    "ExecuteTime": {
     "end_time": "2020-10-11T13:26:58.554692Z",
     "start_time": "2020-10-11T13:26:58.550323Z"
    }
   },
   "outputs": [],
   "source": [
    "test_img_dir = \"/media/syz/Remote_Sensing/dataset/potsdam/Patches/Patch_IRRG_for_test_no_Boundary\"\n",
    "test_label_dir = \"/media/syz/Remote_Sensing/dataset/potsdam/Patches/Patch_IRRG_label_for_test_no_Boundary\""
   ]
  },
  {
   "cell_type": "code",
   "execution_count": 7,
   "metadata": {
    "ExecuteTime": {
     "end_time": "2020-10-11T13:26:59.383856Z",
     "start_time": "2020-10-11T13:26:59.357328Z"
    }
   },
   "outputs": [],
   "source": [
    "train_img_subdir = os.listdir(train_img_dir)\n",
    "train_img_subdir = sorted(train_img_subdir)\n",
    "train_label_subdir = os.listdir(train_label_dir)\n",
    "train_label_subdir = sorted(train_label_subdir)"
   ]
  },
  {
   "cell_type": "code",
   "execution_count": 8,
   "metadata": {
    "ExecuteTime": {
     "end_time": "2020-10-11T13:27:00.245478Z",
     "start_time": "2020-10-11T13:27:00.221872Z"
    }
   },
   "outputs": [],
   "source": [
    "test_img_subdir = os.listdir(test_img_dir)\n",
    "test_img_subdir = sorted(test_img_subdir)\n",
    "test_label_subdir = os.listdir(test_label_dir)\n",
    "test_label_subdir = sorted(test_label_subdir)"
   ]
  },
  {
   "cell_type": "code",
   "execution_count": 9,
   "metadata": {
    "ExecuteTime": {
     "end_time": "2020-10-11T13:27:01.444059Z",
     "start_time": "2020-10-11T13:27:01.267601Z"
    }
   },
   "outputs": [
    {
     "name": "stdout",
     "output_type": "stream",
     "text": [
      "subimg_dir: 324\n",
      "image dir: top_potsdam_2_10_IRRG generate txt ok!\n",
      "subimg_dir: 324\n",
      "image dir: top_potsdam_2_11_IRRG generate txt ok!\n",
      "subimg_dir: 324\n",
      "image dir: top_potsdam_2_12_IRRG generate txt ok!\n",
      "subimg_dir: 324\n",
      "image dir: top_potsdam_3_10_IRRG generate txt ok!\n",
      "subimg_dir: 324\n",
      "image dir: top_potsdam_3_11_IRRG generate txt ok!\n",
      "subimg_dir: 324\n",
      "image dir: top_potsdam_3_12_IRRG generate txt ok!\n",
      "subimg_dir: 324\n",
      "image dir: top_potsdam_4_10_IRRG generate txt ok!\n",
      "subimg_dir: 324\n",
      "image dir: top_potsdam_4_11_IRRG generate txt ok!\n",
      "subimg_dir: 324\n",
      "image dir: top_potsdam_4_12_IRRG generate txt ok!\n",
      "subimg_dir: 324\n",
      "image dir: top_potsdam_5_10_IRRG generate txt ok!\n",
      "subimg_dir: 324\n",
      "image dir: top_potsdam_5_11_IRRG generate txt ok!\n",
      "subimg_dir: 324\n",
      "image dir: top_potsdam_5_12_IRRG generate txt ok!\n",
      "subimg_dir: 324\n",
      "image dir: top_potsdam_6_10_IRRG generate txt ok!\n",
      "subimg_dir: 324\n",
      "image dir: top_potsdam_6_11_IRRG generate txt ok!\n",
      "subimg_dir: 324\n",
      "image dir: top_potsdam_6_12_IRRG generate txt ok!\n",
      "subimg_dir: 324\n",
      "image dir: top_potsdam_6_7_IRRG generate txt ok!\n",
      "subimg_dir: 324\n",
      "image dir: top_potsdam_6_8_IRRG generate txt ok!\n",
      "subimg_dir: 324\n",
      "image dir: top_potsdam_6_9_IRRG generate txt ok!\n",
      "subimg_dir: 324\n",
      "image dir: top_potsdam_7_10_IRRG generate txt ok!\n",
      "subimg_dir: 324\n",
      "image dir: top_potsdam_7_11_IRRG generate txt ok!\n",
      "subimg_dir: 324\n",
      "image dir: top_potsdam_7_12_IRRG generate txt ok!\n",
      "subimg_dir: 324\n",
      "image dir: top_potsdam_7_7_IRRG generate txt ok!\n",
      "subimg_dir: 324\n",
      "image dir: top_potsdam_7_8_IRRG generate txt ok!\n",
      "subimg_dir: 324\n",
      "image dir: top_potsdam_7_9_IRRG generate txt ok!\n"
     ]
    }
   ],
   "source": [
    "fo = open('/media/syz/Remote_Sensing/dataset/potsdam/dataset_list/train.txt', \"w\")\n",
    "for idx, (img_subdir, label_subdir) in enumerate(zip(train_img_subdir, train_label_subdir)):\n",
    "    subimgs = os.path.join(train_img_dir, img_subdir)\n",
    "    sublabels = os.path.join(train_label_dir, label_subdir)\n",
    "    subimg_list = glob.glob(subimgs+'/*.png')\n",
    "    subimg_list = sorted(subimg_list)\n",
    "    sublabel_list = glob.glob(sublabels+'/*.png')\n",
    "    sublabel_list = sorted(sublabel_list)\n",
    "    print(f\"subimg_dir: {len(subimg_list)}\")\n",
    "    for idx, (img_path, label_path) in enumerate(zip(subimg_list, sublabel_list)):\n",
    "        img_item = '/'.join(img_path.split('/')[-3:])\n",
    "        label_item = '/'.join(label_path.split('/')[-3:])\n",
    "        item = img_item+'\\t'+label_item+'\\n'\n",
    "        fo.write(item)\n",
    "    print(f\"image dir: {img_subdir} generate txt ok!\")\n",
    "fo.close()"
   ]
  },
  {
   "cell_type": "code",
   "execution_count": 11,
   "metadata": {
    "ExecuteTime": {
     "end_time": "2020-10-11T13:27:37.164469Z",
     "start_time": "2020-10-11T13:27:37.117872Z"
    }
   },
   "outputs": [
    {
     "name": "stdout",
     "output_type": "stream",
     "text": [
      "subimg_dir: 144\n",
      "image dir: top_potsdam_2_13_IRRG generate txt ok!\n",
      "subimg_dir: 144\n",
      "image dir: top_potsdam_2_14_IRRG generate txt ok!\n",
      "subimg_dir: 144\n",
      "image dir: top_potsdam_3_13_IRRG generate txt ok!\n",
      "subimg_dir: 144\n",
      "image dir: top_potsdam_3_14_IRRG generate txt ok!\n",
      "subimg_dir: 144\n",
      "image dir: top_potsdam_4_13_IRRG generate txt ok!\n",
      "subimg_dir: 144\n",
      "image dir: top_potsdam_4_14_IRRG generate txt ok!\n",
      "subimg_dir: 144\n",
      "image dir: top_potsdam_4_15_IRRG generate txt ok!\n",
      "subimg_dir: 144\n",
      "image dir: top_potsdam_5_13_IRRG generate txt ok!\n",
      "subimg_dir: 144\n",
      "image dir: top_potsdam_5_14_IRRG generate txt ok!\n",
      "subimg_dir: 144\n",
      "image dir: top_potsdam_5_15_IRRG generate txt ok!\n",
      "subimg_dir: 144\n",
      "image dir: top_potsdam_6_13_IRRG generate txt ok!\n",
      "subimg_dir: 144\n",
      "image dir: top_potsdam_6_14_IRRG generate txt ok!\n",
      "subimg_dir: 144\n",
      "image dir: top_potsdam_6_15_IRRG generate txt ok!\n",
      "subimg_dir: 144\n",
      "image dir: top_potsdam_7_13_IRRG generate txt ok!\n"
     ]
    }
   ],
   "source": [
    "fo = open('/media/syz/Remote_Sensing/dataset/potsdam/dataset_list/test.txt', \"w\")\n",
    "for idx, (img_subdir, label_subdir) in enumerate(zip(test_img_subdir, test_label_subdir)):\n",
    "    subimgs = os.path.join(test_img_dir, img_subdir)\n",
    "    sublabels = os.path.join(test_label_dir, label_subdir)\n",
    "    subimg_list = glob.glob(subimgs+'/*.png')\n",
    "    subimg_list = sorted(subimg_list)\n",
    "    sublabel_list = glob.glob(sublabels+'/*.png')\n",
    "    sublabel_list = sorted(sublabel_list)\n",
    "    print(f\"subimg_dir: {len(subimg_list)}\")\n",
    "    for idx, (img_path, label_path) in enumerate(zip(subimg_list, sublabel_list)):\n",
    "        img_item = '/'.join(img_path.split('/')[-3:])\n",
    "        label_item = '/'.join(label_path.split('/')[-3:])\n",
    "        item = img_item+'\\t'+label_item+'\\n'\n",
    "        fo.write(item)\n",
    "    print(f\"image dir: {img_subdir} generate txt ok!\")\n",
    "fo.close()"
   ]
  }
 ],
 "metadata": {
  "kernelspec": {
   "display_name": "Python 3",
   "language": "python",
   "name": "python3"
  },
  "language_info": {
   "codemirror_mode": {
    "name": "ipython",
    "version": 3
   },
   "file_extension": ".py",
   "mimetype": "text/x-python",
   "name": "python",
   "nbconvert_exporter": "python",
   "pygments_lexer": "ipython3",
   "version": "3.6.10"
  },
  "toc": {
   "base_numbering": 1,
   "nav_menu": {},
   "number_sections": true,
   "sideBar": true,
   "skip_h1_title": false,
   "title_cell": "Table of Contents",
   "title_sidebar": "Contents",
   "toc_cell": false,
   "toc_position": {},
   "toc_section_display": true,
   "toc_window_display": false
  }
 },
 "nbformat": 4,
 "nbformat_minor": 4
}