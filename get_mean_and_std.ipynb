{
 "cells": [
  {
   "cell_type": "code",
   "execution_count": 47,
   "metadata": {
    "ExecuteTime": {
     "end_time": "2020-10-10T02:02:45.290019Z",
     "start_time": "2020-10-10T02:02:44.482855Z"
    }
   },
   "outputs": [],
   "source": [
    "import os\n",
    "import glob\n",
    "import pandas\n",
    "import tqdm\n",
    "import numpy as np\n",
    "from PIL import Image\n",
    "\n",
    "import torch\n",
    "from torch.utils.data import DataLoader\n",
    "from torch.utils.data.dataset import Dataset"
   ]
  },
  {
   "cell_type": "code",
   "execution_count": 48,
   "metadata": {
    "ExecuteTime": {
     "end_time": "2020-10-10T02:02:45.292974Z",
     "start_time": "2020-10-10T02:02:45.291253Z"
    }
   },
   "outputs": [],
   "source": [
    "dir_path=\"/media/syz/Remote_Sensing/dataset/potsdam/IRRG\""
   ]
  },
  {
   "cell_type": "code",
   "execution_count": 49,
   "metadata": {
    "ExecuteTime": {
     "end_time": "2020-10-10T02:02:45.304021Z",
     "start_time": "2020-10-10T02:02:45.294740Z"
    }
   },
   "outputs": [],
   "source": [
    "class MyDataset(Dataset):\n",
    "    def __init__(self, dataset_path):\n",
    "#         self.data = torch.randn(100, 3, 24, 24)\n",
    "        self.datalist = glob.glob(os.path.join(dataset_path, '*.tif'))\n",
    "\n",
    "    def __getitem__(self, index):\n",
    "        \n",
    "        fp = self.datalist[index]\n",
    "        x = Image.open(fp)\n",
    "        arrayx = np.array(x)\n",
    "        torchx = torch.from_numpy(arrayx)\n",
    "        \n",
    "        return torchx.float()\n",
    "\n",
    "    def __len__(self):\n",
    "        return len(self.datalist)"
   ]
  },
  {
   "cell_type": "code",
   "execution_count": 50,
   "metadata": {
    "ExecuteTime": {
     "end_time": "2020-10-10T02:04:12.985222Z",
     "start_time": "2020-10-10T02:02:45.305425Z"
    },
    "tags": []
   },
   "outputs": [
    {
     "output_type": "stream",
     "name": "stderr",
     "text": "100%|██████████| 38/38 [00:37<00:00,  1.02it/s]channel mean: tensor([0.3829, 0.3629, 0.3369]), channel_std: tensor([0.1388, 0.1377, 0.1431])\n\n"
    }
   ],
   "source": [
    "# refer to: https://discuss.pytorch.org/t/about-normalization-using-pre-trained-vgg16-networks/23560/20\n",
    "dataset = MyDataset(dataset_path=dir_path)\n",
    "loader = DataLoader(\n",
    "    dataset,\n",
    "    batch_size=1,\n",
    "    num_workers=1,\n",
    "    shuffle=False\n",
    ")\n",
    "\n",
    "nb_samples = 0.\n",
    "channel_mean = torch.Tensor([0., 0., 0.])\n",
    "channel_std = torch.Tensor([0., 0., 0.])\n",
    "for images in tqdm.tqdm(loader):\n",
    "    # scale image to be between 0 and 1 \n",
    "    images=images/255.\n",
    "    batch_samples = images.size(0)\n",
    "    images = images.view(batch_samples, images.size(1)*images.size(2), 3)\n",
    "    for i in range(3):\n",
    "        channel_mean[i]+=images[:, :,i].mean(1).sum(0)\n",
    "        channel_std[i]+=images[:, :,i].std(1).sum(0)\n",
    "    nb_samples += batch_samples\n",
    "\n",
    "channel_mean /= nb_samples\n",
    "channel_std /= nb_samples\n",
    " \n",
    "print(f\"channel mean: {channel_mean}, channel_std: {channel_std}\")"
   ]
  },
  {
   "cell_type": "code",
   "execution_count": null,
   "metadata": {},
   "outputs": [],
   "source": []
  }
 ],
 "metadata": {
  "kernelspec": {
   "display_name": "Python 3",
   "language": "python",
   "name": "python3"
  },
  "language_info": {
   "codemirror_mode": {
    "name": "ipython",
    "version": 3
   },
   "file_extension": ".py",
   "mimetype": "text/x-python",
   "name": "python",
   "nbconvert_exporter": "python",
   "pygments_lexer": "ipython3",
   "version": "3.7.9-final"
  },
  "toc": {
   "base_numbering": 1,
   "nav_menu": {},
   "number_sections": true,
   "sideBar": true,
   "skip_h1_title": false,
   "title_cell": "Table of Contents",
   "title_sidebar": "Contents",
   "toc_cell": false,
   "toc_position": {},
   "toc_section_display": true,
   "toc_window_display": false
  }
 },
 "nbformat": 4,
 "nbformat_minor": 4
}